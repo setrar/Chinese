{
 "cells": [
  {
   "cell_type": "markdown",
   "id": "c1672328-e26a-4593-8609-a6da42e3e13b",
   "metadata": {},
   "source": [
    "$\\Huge\\textbf{In-class oral practice}$"
   ]
  },
  {
   "cell_type": "markdown",
   "id": "927fb79d-8370-4187-8533-3560f7c60de0",
   "metadata": {},
   "source": [
    "1. $\\Huge\\text{今天是星期几？}$Jīntiān shì xīngqī jǐ? $\\color{red}\\text{(lesson 7)}$\n",
    "   \n",
    "2. $\\Huge\\text{下星期一是几号？}$ Xià xīngqī yī shì jǐ hào? $\\color{red}\\text{(lesson 7)}$\n",
    "   \n",
    "3. $\\Huge\\text{你想喝什么？}$ Nǐ $\\color{lightblue}\\text{xiǎng}$ hē shénme? $\\color{red}\\text{(lesson 8)}$\n",
    "   \n",
    "4. $\\Huge\\text{昨天你去哪里吃饭？}$ Zuótiān nǐ qù nǎlǐ chīfàn? $\\color{red}\\text{(lesson 8)}$\n",
    "   \n",
    "5. $\\Huge\\text{你是学生吗？}$ Nǐ shì xuéshēng ma? $\\color{red}\\text{(lesson 4)}$\n",
    "   \n",
    "6. $\\Huge\\text{今天你想工作吗？}$ Jīntiān nǐ xiǎng gōngzuò ma? $\\color{red}\\text{(lesson 9)}$\n",
    "   \n",
    "7. $\\Huge\\text{你不喜欢吃什么和喝什么？}$ Nǐ bù $\\color{lightblue}\\text{xǐhuān}$ chī shénme $\\color{red}\\text{hé}$ hē shénme?  \n",
    "   (*$\\color{lightblue}\\text{xǐhuān = like}$)\n"
   ]
  },
  {
   "cell_type": "code",
   "execution_count": null,
   "id": "bd0bd96e-ec13-4caa-a46b-8d327340b836",
   "metadata": {},
   "outputs": [],
   "source": []
  }
 ],
 "metadata": {
  "kernelspec": {
   "display_name": "Julia 1.11.1",
   "language": "julia",
   "name": "julia-1.11"
  },
  "language_info": {
   "file_extension": ".jl",
   "mimetype": "application/julia",
   "name": "julia",
   "version": "1.11.1"
  }
 },
 "nbformat": 4,
 "nbformat_minor": 5
}
