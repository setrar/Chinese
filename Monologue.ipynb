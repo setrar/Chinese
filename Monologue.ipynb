{
 "cells": [
  {
   "cell_type": "markdown",
   "id": "7e48d29b-d0da-4ccd-9379-48f431a1e6b2",
   "metadata": {},
   "source": [
    "---\n",
    "\n",
    "大家好，我想和大家说说我的故事。我来自加拿大，是一个有趣的人。我现在学习电信，这是一个很好的专业。\n",
    "\n",
    "Dàjiā hǎo, wǒ xiǎng hé dàjiā shuō shuō wǒ de gùshì. Wǒ láizì Jiānádà, shì yīgè yǒuqù de rén. Wǒ xiànzài xuéxí diànxìn, zhè shì yīgè hěn hǎo de zhuānyè.\n",
    "\n",
    "Hello everyone, I want to tell you my story. I am from Canada and I am an interesting person. I am studying telecommunications now, which is a very good major.\n",
    "\n",
    "我学习很努力，还会说很多语言。我会英语、法语和马达加斯加语，这很特别。\n",
    "\n",
    "Wǒ xuéxí hěn nǔlì, hái huì shuō hěn duō yǔyán. Wǒ huì Yīngyǔ, Fǎyǔ hé Mǎdájiāsījiā yǔ, zhè hěn tèbié.\n",
    "\n",
    "I study hard and can speak many languages. I speak English, French, and Malagasy, which is very special.\n",
    "\n",
    "我喜欢音乐，特别是爵士乐。我常常听爵士乐，有时也会弹给朋友们听。\n",
    "\n",
    "Wǒ xǐhuān yīnyuè, tèbié shì juéshì yuè. Wǒ chángcháng tīng juéshì yuè, yǒushí yě huì tán gěi péngyǒumen tīng.\n",
    "\n",
    "I like music, especially jazz. I often listen to jazz and sometimes play it for my friends.\n",
    "\n",
    "我也喜欢看电影。我常常去电影院，看新电影和老电影。我还喜欢参加电影节和音乐节，认识新朋友。\n",
    "\n",
    "Wǒ yě xǐhuān kàn diànyǐng. Wǒ chángcháng qù diànyǐngyuàn, kàn xīn diànyǐng hé lǎo diànyǐng. Wǒ hái xǐhuān cānjiā diànyǐng jié hé yīnyuè jié, rènshí xīn péngyǒu.\n",
    "\n",
    "I also like watching movies. I often go to the cinema to watch new and old movies. I also like to attend film and music festivals to meet new friends.\n",
    "\n",
    "总的来说，我是一个多才多艺的人。我学习很好，生活中也很快乐。谢谢大家听我的故事。\n",
    "\n",
    "Zǒng de lái shuō, wǒ shì yīgè duōcáiduōyì de rén. Wǒ xuéxí hěn hǎo, shēnghuó zhōng yě hěn kuàilè. Xièxiè dàjiā tīng wǒ de gùshì.\n",
    "\n",
    "Overall, I am a versatile person. I study well and am happy in life. Thank you all for listening to my story.\n",
    "\n",
    "---"
   ]
  },
  {
   "cell_type": "code",
   "execution_count": null,
   "id": "536ec8c1-e3c3-4feb-a5e1-cbdc4aed6999",
   "metadata": {},
   "outputs": [],
   "source": [
    "keep it at HSK1 level"
   ]
  }
 ],
 "metadata": {
  "kernelspec": {
   "display_name": "Julia 1.9.3",
   "language": "julia",
   "name": "julia-1.9"
  },
  "language_info": {
   "file_extension": ".jl",
   "mimetype": "application/julia",
   "name": "julia",
   "version": "1.10.4"
  }
 },
 "nbformat": 4,
 "nbformat_minor": 5
}
