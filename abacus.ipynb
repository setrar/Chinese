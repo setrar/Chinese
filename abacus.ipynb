{
 "cells": [
  {
   "cell_type": "markdown",
   "id": "d9b6e4ed-2270-4c76-8c1b-6b8dbf95bd6c",
   "metadata": {},
   "source": [
    "$\\Huge\\textbf{Suàn pan}$ **Abacus**"
   ]
  },
  {
   "cell_type": "markdown",
   "id": "104cb60a-31d6-47e7-9858-339ebe83f859",
   "metadata": {},
   "source": [
    "Here’s how powers of 10 correspond to their representation on an abacus, shown in a table:\n",
    "\n",
    "| **Power of 10** | **Value**          | **Chinese Character** | **Pinyin**    | **Abacus Column**      |\n",
    "|------------------|-------------------|-----------------------|---------------|-------------------------|\n",
    "| $10^0$         | 1                   | $\\Huge\\textbf{一}$    | yī            | Rightmost column       |\n",
    "| $10^1$         | 10                  | $\\Huge\\textbf{十}$    | shí           | 2nd column from right  |\n",
    "| $10^2$         | 100                 | $\\Huge\\textbf{百}$    | bǎi           | 3rd column from right  |\n",
    "| $10^3$         | 1,000               | $\\Huge\\textbf{千}$    | qiān          | 4th column from right  |\n",
    "| $10^4$         | 10,000              | $\\Huge\\textbf{万}$    | wàn           | 5th column from right  |\n",
    "| $10^5$         | 100,000             | $\\Huge\\textbf{十万}$    | shíwàn        | 6th column from right  |\n",
    "| $10^6$         | 1,000,000           | $\\Huge\\textbf{百万}$    | bǎiwàn        | 7th column from right  |\n",
    "| $10^7$         | 10,000,000          | $\\Huge\\textbf{千万}$    | qiānwàn       | 8th column from right  |\n",
    "| $10^8$         | 100,000,000         | $\\Huge\\textbf{亿}$      | yì            | 9th column from right  |\n",
    "| $10^9$         | 1,000,000,000       | $\\Huge\\textbf{十亿}$    | shíyì         | 10th column from right |\n",
    "| $10^{10}$      | 10,000,000,000      | $\\Huge\\textbf{百亿}$    | bǎiyì         | 11th column from right |\n",
    "| $10^{11}$      | 100,000,000,000     | $\\Huge\\textbf{千亿}$    | qiānyì        | 12th column from right |\n",
    "| $10^{12}$      | 1,000,000,000,000   | $\\Huge\\textbf{兆}$      | zhào          | 13th column from right |\n",
    "\n",
    "### Notes:\n",
    "- Each **column on the abacus** corresponds to one of these powers of 10.\n",
    "- Numbers on the abacus are represented by summing up bead values in their respective columns, based on the position they represent."
   ]
  },
  {
   "cell_type": "markdown",
   "id": "dd47687e-19d5-4b5f-8fe4-0bb967595903",
   "metadata": {},
   "source": [
    "1.\t$\\Huge\\textbf{橙色}$ chéngsè - orange\n",
    "2.\t$\\Huge\\textbf{紫色}$ zǐsè - violet\n",
    "3.\t$\\Huge\\textbf{棕色}$ zōngsè - brun\n",
    "4.\t$\\Huge\\textbf{褐色}$ hésè - brun foncé\n",
    "5.\t$\\Huge\\textbf{白色}$ báisè - blanc\n",
    "6.\t$\\Huge\\textbf{绿色}$ lǜsè - vert\n",
    "7.\t$\\Huge\\textbf{蓝色}$ lánsè - bleu\n",
    "8.\t$\\Huge\\textbf{红色}$ hóngsè - rouge\n",
    "9.\t$\\Huge\\textbf{黄色}$ huángsè - jaune\n",
    "10.\t$\\Huge\\textbf{黑色}$ hēisè - noir\n",
    "11.\t$\\Huge\\textbf{灰色}$ huīsè - gris\n",
    "12.\t$\\Huge\\textbf{粉色}$ fěnsè - rose\n",
    "13.\t$\\Huge\\textbf{金色}$ jīnsè - doré\n",
    "14.\t$\\Huge\\textbf{银色}$ yínsè - argenté\n",
    "15.\t$\\Huge\\textbf{深色}$ shēnsè - couleur foncée\n",
    "16.\t$\\Huge\\textbf{浅色}$ qiǎnsè - couleur claire\n",
    "17.\t$\\Huge\\textbf{鲜艳}$ xiānyàn - éclatant\n",
    "18.\t$\\Huge\\textbf{暗}$ àn - sombre\n",
    "19.\t$\\Huge\\textbf{正方形}$ zhèngfāngxíng - carré\n",
    "20.\t$\\Huge\\textbf{长方形}$ chángfāngxíng - rectangle\n",
    "21.\t$\\Huge\\textbf{三角形}$ sānjiǎoxíng - triangle"
   ]
  },
  {
   "cell_type": "markdown",
   "id": "4402de9f-969b-4ac7-ac61-4df6f1097beb",
   "metadata": {},
   "source": [
    "$\\Huge\\textbf{问题}$ - wèn tí - Question(s)? Problem\n",
    "$\\Huge\\textbf{你还来吗}$ - \n",
    "$\\Huge\\textbf{我在学校}$ - Wǒ zài xuéxiào - I am at scholl"
   ]
  },
  {
   "cell_type": "markdown",
   "id": "f3bfcfe0-501a-4e8f-b710-b84083402ce8",
   "metadata": {},
   "source": [
    "### Present Progressive in Chinese:\n",
    "\n",
    "**Structure:**  \n",
    "**Subject + 在 (zài) + Verb + Object**\n",
    "\n",
    "**Examples:**  \n",
    "- 我在学习中文。(*I am studying Chinese.*)  \n",
    "- 他在吃饭。(*He is eating.*)  \n",
    "- 他们在看电视。(*They are watching TV.*)\n",
    "\n",
    "**Key:**  \n",
    "**在 (zài)** = ongoing action (\"-ing\" in English)."
   ]
  },
  {
   "cell_type": "markdown",
   "id": "5be73422-009c-42c2-b93c-884e1d679847",
   "metadata": {},
   "source": [
    "### Future Tense in Chinese:\n",
    "\n",
    "**Structures:**\n",
    "1. **Subject + 会 (huì) + Verb** *(will)*  \n",
    "   - 我会学习。(*I will study.*)  \n",
    "\n",
    "2. **Subject + 要 (yào) + Verb** *(going to)*  \n",
    "   - 他要工作。(*He is going to work.*)  \n",
    "\n",
    "3. **Subject + 打算 (dǎsuàn) + Verb** *(plan to)*  \n",
    "   - 我们打算旅行。(*We plan to travel.*)  \n",
    "\n",
    "**Key:** Use **会**, **要**, or **打算** for future actions."
   ]
  },
  {
   "cell_type": "code",
   "execution_count": null,
   "id": "1f147343-6f2c-401b-9e82-738665395e98",
   "metadata": {},
   "outputs": [],
   "source": []
  }
 ],
 "metadata": {
  "kernelspec": {
   "display_name": "Julia 1.11.1",
   "language": "julia",
   "name": "julia-1.11"
  },
  "language_info": {
   "file_extension": ".jl",
   "mimetype": "application/julia",
   "name": "julia",
   "version": "1.11.1"
  }
 },
 "nbformat": 4,
 "nbformat_minor": 5
}
