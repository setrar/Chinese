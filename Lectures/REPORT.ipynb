{
 "cells": [
  {
   "cell_type": "markdown",
   "id": "21c5dc83-581e-4dbc-88b0-cf8cbd457a1e",
   "metadata": {},
   "source": [
    "每一个:   Every one\n",
    "\n",
    "Měi yīgè"
   ]
  },
  {
   "cell_type": "code",
   "execution_count": null,
   "id": "a0d7aea8-562a-4f58-9e92-bc27f73064fb",
   "metadata": {},
   "outputs": [],
   "source": []
  }
 ],
 "metadata": {
  "kernelspec": {
   "display_name": "Julia 1.11.3",
   "language": "julia",
   "name": "julia-1.11"
  },
  "language_info": {
   "file_extension": ".jl",
   "mimetype": "application/julia",
   "name": "julia",
   "version": "1.11.3"
  }
 },
 "nbformat": 4,
 "nbformat_minor": 5
}
